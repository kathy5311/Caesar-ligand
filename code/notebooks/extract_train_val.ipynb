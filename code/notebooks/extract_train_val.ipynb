{
 "cells": [
  {
   "cell_type": "code",
   "execution_count": 1,
   "metadata": {},
   "outputs": [
    {
     "name": "stdout",
     "output_type": "stream",
     "text": [
      "43847\n",
      "10962\n"
     ]
    }
   ],
   "source": [
    "import random\n",
    "from random import shuffle\n",
    "\n",
    "with open('total_datalist_0823.txt', 'r') as f:\n",
    "    li = [l[:-1] for l in f]\n",
    "\n",
    "# train:valid = 8:2\n",
    "random.shuffle(li)\n",
    "idx =int(len(li)*0.8)\n",
    "train = li[:idx]\n",
    "valid = li[idx:]\n",
    "#print(train)\n",
    "print(len(train))\n",
    "#print(valid)\n",
    "print(len(valid))\n"
   ]
  },
  {
   "cell_type": "code",
   "execution_count": 2,
   "metadata": {},
   "outputs": [],
   "source": [
    "with open('total_train_0823.txt', 'w+') as f:\n",
    "    for line in train:\n",
    "        f.write(line+'\\n')\n",
    "f.close()\n",
    "\n",
    "with open('total_valid_0823.txt', 'w+') as w:\n",
    "    for line in valid:\n",
    "        w.write(line+'\\n')\n",
    "w.close()"
   ]
  },
  {
   "cell_type": "code",
   "execution_count": null,
   "metadata": {},
   "outputs": [],
   "source": []
  }
 ],
 "metadata": {
  "kernelspec": {
   "display_name": "Python 3",
   "language": "python",
   "name": "python3"
  },
  "language_info": {
   "codemirror_mode": {
    "name": "ipython",
    "version": 3
   },
   "file_extension": ".py",
   "mimetype": "text/x-python",
   "name": "python",
   "nbconvert_exporter": "python",
   "pygments_lexer": "ipython3",
   "version": "3.8.10"
  }
 },
 "nbformat": 4,
 "nbformat_minor": 2
}
