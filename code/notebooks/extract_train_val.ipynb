{
 "cells": [
  {
   "cell_type": "code",
   "execution_count": 6,
   "metadata": {},
   "outputs": [
    {
     "name": "stdout",
     "output_type": "stream",
     "text": [
      "1200\n",
      "300\n"
     ]
    }
   ],
   "source": [
    "import random\n",
    "from random import shuffle\n",
    "\n",
    "with open('check_datalist.txt', 'r') as f:\n",
    "    li = [l[:-1] for l in f]\n",
    "\n",
    "# train:valid = 8:2\n",
    "random.shuffle(li)\n",
    "idx =int(len(li)*0.8)\n",
    "train = li[:idx]\n",
    "valid = li[idx:]\n",
    "#print(train)\n",
    "print(len(train))\n",
    "#print(valid)\n",
    "print(len(valid))\n"
   ]
  },
  {
   "cell_type": "code",
   "execution_count": 7,
   "metadata": {},
   "outputs": [],
   "source": [
    "with open('check_train.txt', 'w+') as f:\n",
    "    for line in train:\n",
    "        f.write(line+'\\n')\n",
    "f.close()\n",
    "\n",
    "with open('check_valid.txt', 'w+') as w:\n",
    "    for line in valid:\n",
    "        w.write(line+'\\n')\n",
    "w.close()"
   ]
  },
  {
   "cell_type": "code",
   "execution_count": null,
   "metadata": {},
   "outputs": [],
   "source": []
  }
 ],
 "metadata": {
  "kernelspec": {
   "display_name": "Python 3",
   "language": "python",
   "name": "python3"
  },
  "language_info": {
   "codemirror_mode": {
    "name": "ipython",
    "version": 3
   },
   "file_extension": ".py",
   "mimetype": "text/x-python",
   "name": "python",
   "nbconvert_exporter": "python",
   "pygments_lexer": "ipython3",
   "version": "3.8.10"
  }
 },
 "nbformat": 4,
 "nbformat_minor": 2
}
